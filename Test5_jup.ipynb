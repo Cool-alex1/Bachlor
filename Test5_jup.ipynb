{
 "cells": [
  {
   "cell_type": "code",
   "execution_count": 1,
   "metadata": {},
   "outputs": [],
   "source": [
    "# !pip install marigold\n",
    "import sys\n",
    "import time\n",
    "import warnings\n",
    "from pathlib import Path\n",
    "\n",
    "import matplotlib.pyplot as plt\n",
    "import torch\n",
    "from torch import nn\n",
    "from torch.optim import Adam\n",
    "from torch.utils.data import DataLoader, random_split\n",
    "from torchvision.transforms import v2\n",
    "from tqdm.auto import tqdm\n",
    "import os                                    #Min ting\n",
    "import arpesnet as an\n",
    "import numpy as np\n",
    "\n",
    "from knano.cluster import Cluster"
   ]
  },
  {
   "cell_type": "code",
   "execution_count": 2,
   "metadata": {},
   "outputs": [
    {
     "name": "stdout",
     "output_type": "stream",
     "text": [
      "Loading trainer\n"
     ]
    },
    {
     "name": "stderr",
     "output_type": "stream",
     "text": [
      "c:\\Users\\Alexa\\anaconda3\\lib\\site-packages\\arpesnet\\core.py:30: FutureWarning: You are using `torch.load` with `weights_only=False` (the current default value), which uses the default pickle module implicitly. It is possible to construct malicious pickle data which will execute arbitrary code during unpickling (See https://github.com/pytorch/pytorch/blob/main/SECURITY.md#untrusted-models for more details). In a future release, the default value for `weights_only` will be flipped to `True`. This limits the functions that could be executed during unpickling. Arbitrary objects will no longer be allowed to be loaded via this mode unless they are explicitly allowlisted by the user via `torch.serialization.add_safe_globals`. We recommend you start setting `weights_only=True` for any use case where you don't have full control of the loaded file. Please open an issue on GitHub for any issues related to this experimental feature.\n",
      "  loaded = torch.load(filepath)\n",
      "c:\\Users\\Alexa\\anaconda3\\lib\\site-packages\\arpesnet\\core.py:32: FutureWarning: You are using `torch.load` with `weights_only=False` (the current default value), which uses the default pickle module implicitly. It is possible to construct malicious pickle data which will execute arbitrary code during unpickling (See https://github.com/pytorch/pytorch/blob/main/SECURITY.md#untrusted-models for more details). In a future release, the default value for `weights_only` will be flipped to `True`. This limits the functions that could be executed during unpickling. Arbitrary objects will no longer be allowed to be loaded via this mode unless they are explicitly allowlisted by the user via `torch.serialization.add_safe_globals`. We recommend you start setting `weights_only=True` for any use case where you don't have full control of the loaded file. Please open an issue on GitHub for any issues related to this experimental feature.\n",
      "  loaded = torch.load(filepath, map_location=\"cpu\")\n"
     ]
    },
    {
     "name": "stdout",
     "output_type": "stream",
     "text": [
      "GPU not available, using CPU\n",
      "Trainer loaded\n",
      "\n",
      "Machine learning reconstruction is ready\n"
     ]
    }
   ],
   "source": [
    "print(\"Loading trainer\")\n",
    "trainerPath = r\"C:\\Users\\Alexa\\Dropbox\\Pc\\Documents\\Privat\\Programering\\Visual studio\\Uni\\Bachelor\\General coding stuff\\ARPES_on_the_fly_arpesnet_206c328\\trained_model\\arpesnet_n2n_4k.pth\"\n",
    "# trainerPath = r\"C:\\Users\\Alexa\\Dropbox\\Pc\\Documents\\Privat\\Programering\\Visual studio\\Uni\\Bachelor\\Deres\\ARPES_on_the_fly_arpesnet_206c328\\trained_by_me\\arpesnet_60epochs_001.pt\"\n",
    "trainer = an.core.load_trainer(trainerPath)\n",
    "print(\"Trainer loaded\\n\")\n",
    "\n",
    "encoder = trainer.encoder\n",
    "decoder = trainer.decoder\n",
    "\n",
    "encoder.eval()\n",
    "decoder.eval()\n",
    "\n",
    "def useARPES_on_img(img):\n",
    "    rec = decoder(encoder(img.unsqueeze(0))).detach().squeeze().cpu().numpy()\n",
    "    return rec\n",
    "print(\"Machine learning reconstruction is ready\")"
   ]
  },
  {
   "cell_type": "code",
   "execution_count": 3,
   "metadata": {},
   "outputs": [
    {
     "name": "stdout",
     "output_type": "stream",
     "text": [
      "c:\\Users\\Alexa\\Dropbox\\Pc\\Documents\\Privat\\Programering\\Visual studio\\Uni\\Bachelor\\General coding stuff\\ARPES_on_the_fly_arpesnet_206c328\\data\\test_imgs.pt\n"
     ]
    },
    {
     "name": "stderr",
     "output_type": "stream",
     "text": [
      "C:\\Users\\Alexa\\AppData\\Local\\Temp\\ipykernel_10088\\3685095879.py:36: FutureWarning: You are using `torch.load` with `weights_only=False` (the current default value), which uses the default pickle module implicitly. It is possible to construct malicious pickle data which will execute arbitrary code during unpickling (See https://github.com/pytorch/pytorch/blob/main/SECURITY.md#untrusted-models for more details). In a future release, the default value for `weights_only` will be flipped to `True`. This limits the functions that could be executed during unpickling. Arbitrary objects will no longer be allowed to be loaded via this mode unless they are explicitly allowlisted by the user via `torch.serialization.add_safe_globals`. We recommend you start setting `weights_only=True` for any use case where you don't have full control of the loaded file. Please open an issue on GitHub for any issues related to this experimental feature.\n",
      "  imgs = torch.load(imgPath / name)\n"
     ]
    },
    {
     "data": {
      "application/vnd.jupyter.widget-view+json": {
       "model_id": "10a5f7cd694d494d9043cee57f99ab3d",
       "version_major": 2,
       "version_minor": 0
      },
      "text/plain": [
       "  0%|          | 0/6 [00:00<?, ?it/s]"
      ]
     },
     "metadata": {},
     "output_type": "display_data"
    }
   ],
   "source": [
    "INPUT_SHAPE = (256, 256)\n",
    "NORM_RANGE = (0, 100)\n",
    "preprocess = an.transform.Compose(\n",
    "    [an.transform.Resize(INPUT_SHAPE), an.transform.NormalizeMinMax(*NORM_RANGE)]\n",
    ")\n",
    "\n",
    "# ROOT_DIR = Path(os.path.dirname(os.path.abspath(__file__))) / \"ARPES_on_the_fly_arpesnet_206c328\" / \"data\"\n",
    "ROOT_DIR = Path(os.getcwd()) / \"ARPES_on_the_fly_arpesnet_206c328\" / \"data\"\n",
    "TRAINING_DIR = ROOT_DIR / \"train_data\" / \"train_data\"\n",
    "TEST_DIR = ROOT_DIR / \"test_data\" / \"test_data\"\n",
    "TEST_IMGS_FILE = ROOT_DIR / \"test_imgs.pt\"\n",
    "CLUSTER_CENTER_FILE = ROOT_DIR / \"cluster_centers.pt\"\n",
    "\n",
    "def getImgFromName(name, range=(0, 0), sum=False):    #Denne fuktion kigger bare igennem de forskellige data- filer og mapper og returnerer de tilhørende billeder.\n",
    "    imgName = \"\"\n",
    "    imgPath = \"\"\n",
    "    if (name == \"test_imgs.pt\"):\n",
    "        imgName = \"test_imgs.pt\"\n",
    "        imgPath = ROOT_DIR\n",
    "    elif (name == \"cluster_centers.pt\"):\n",
    "        imgName = \"cluster_centers.pt\"\n",
    "        imgPath = ROOT_DIR\n",
    "    else:\n",
    "        paths = [TRAINING_DIR, TEST_DIR]\n",
    "        for dir in paths:\n",
    "            if (name in os.listdir(dir)):\n",
    "                imgName = name\n",
    "                imgPath = dir\n",
    "                break\n",
    "    \n",
    "    if(imgName == \"\"):\n",
    "        print(f'Datafile with name: \"{name}\" was not found')\n",
    "        exit()\n",
    "\n",
    "    print(imgPath / name)\n",
    "    imgs = torch.load(imgPath / name)\n",
    "\n",
    "    if(range==(0, 0)): preprocessed = torch.stack([preprocess(img) for img in tqdm(imgs)])\n",
    "    else:              preprocessed = torch.stack([preprocess(img) for img in tqdm(imgs)][range[0]:range[1]])\n",
    "    if(sum):\n",
    "        preprocessed = [torch.sum(preprocessed, dim=0)]\n",
    "\n",
    "\n",
    "    return name, preprocessed\n",
    "\n",
    "\n",
    "imgName, test_imgs = getImgFromName(\"test_imgs.pt\", sum=False, range=(0, 1))"
   ]
  },
  {
   "cell_type": "code",
   "execution_count": 4,
   "metadata": {},
   "outputs": [
    {
     "name": "stderr",
     "output_type": "stream",
     "text": [
      "c:\\Users\\Alexa\\anaconda3\\lib\\site-packages\\torch\\nn\\modules\\loss.py:608: UserWarning: Using a target size (torch.Size([256, 256])) that is different to the input size (torch.Size([1, 256, 256])). This will likely lead to incorrect results due to broadcasting. Please ensure they have the same size.\n",
      "  return F.mse_loss(input, target, reduction=self.reduction)\n"
     ]
    },
    {
     "name": "stdout",
     "output_type": "stream",
     "text": [
      "1.3597168922424316\n"
     ]
    },
    {
     "data": {
      "image/png": "[encoded data removed]",
      "text/plain": [
       "<Figure size 864x432 with 3 Axes>"
      ]
     },
     "metadata": {
      "needs_background": "light"
     },
     "output_type": "display_data"
    }
   ],
   "source": [
    "testing_augmentations = an.transform.Compose(\n",
    "    [\n",
    "        an.transform.Resize(INPUT_SHAPE),\n",
    "        an.transform.NormalizeMinMax(*NORM_RANGE),\n",
    "    ]\n",
    ")\n",
    "\n",
    "n_imgs = len(test_imgs)\n",
    "grid = [\n",
    "    [f\"original_{i}\" for i in range(n_imgs)],\n",
    "    [f\"rec_{i}\" for i in range(n_imgs)],\n",
    "    [f\"diff_{i}\" for i in range(n_imgs)],\n",
    "]\n",
    "fig, axes = plt.subplot_mosaic(grid, figsize=(12, 6))\n",
    "fig.subplots_adjust(hspace=0.375)\n",
    "fig.suptitle(f\"{imgName}\", fontsize=16)\n",
    "\n",
    "test_loss = 0\n",
    "for i, img in enumerate(test_imgs):\n",
    "    img = testing_augmentations(img)\n",
    "    rec = decoder(encoder(img.unsqueeze(0)))\n",
    "    loss = nn.MSELoss()(rec, img).detach().squeeze().cpu().numpy()\n",
    "    test_loss += loss\n",
    "    img = img.detach().squeeze().cpu().numpy()\n",
    "    rec = rec.detach().squeeze().cpu().numpy()\n",
    "    clim = img.min(), img.max()\n",
    "    diff = img - rec\n",
    "    vmax = clim[1]\n",
    "    axes[f\"original_{i}\"].imshow(img, cmap=\"viridis\", clim=clim, origin=\"lower\")\n",
    "    axes[f\"rec_{i}\"].imshow(rec, cmap=\"viridis\", clim=clim, origin=\"lower\")\n",
    "    axes[f\"diff_{i}\"].imshow(diff, cmap=\"bwr\", clim=(-vmax, vmax), origin=\"lower\")\n",
    "    axes[f\"diff_{i}\"].set_title(f\"MSE: {loss:.3f}\")\n",
    "\n",
    "print(loss/n_imgs)"
   ]
  },
  {
   "cell_type": "markdown",
   "metadata": {},
   "source": [
    "Her bliver de to billeder udsat for clustering."
   ]
  },
  {
   "cell_type": "code",
   "execution_count": 5,
   "metadata": {},
   "outputs": [],
   "source": [
    "from sklearn.cluster import KMeans\n",
    "from matplotlib.colors import ListedColormap \n",
    "\n",
    "def process_dataset(npimg, roi_k, roi_e):\n",
    "    # Load and reshape data\n",
    "    data = npimg.flatten()\n",
    "    data = data.reshape(1, 256, 256)\n",
    "    data = np.nan_to_num(data)  # Remove NaNs\n",
    "    # prepare some abbreviations for the loop later\n",
    "    # the two rois have the format (low boundary, high boundary, box size)\n",
    "    num_rois_per_k = (roi_k[1] - roi_k[0]) // roi_k[2]\n",
    "    num_rois_per_e = (roi_e[1] - roi_e[0]) // roi_e[2]\n",
    "    n = roi_k[2]\n",
    "    m = roi_e[2]\n",
    "    # Calculate integrated intensities\n",
    "    intensities = np.zeros((num_rois_per_k * num_rois_per_e, data.shape[0]))\n",
    "    # print(intensities.shape)\n",
    "    for idx, image in enumerate(data):\n",
    "        roi_count = 0\n",
    "        for roi_x in range(num_rois_per_k):\n",
    "            for roi_y in range(num_rois_per_e):\n",
    "                roi = image[(roi_x)*n + roi_k[0] :(roi_x+1)*n + roi_k[0], (roi_y)*m + roi_e[0] :(roi_y+1)*m + roi_e[0]]\n",
    "                # if(roi_x==0 and roi_y==0): print(roi); print(np.sum(roi))\n",
    "                intensities[roi_count, idx] = np.sum(roi)\n",
    "                roi_count += 1\n",
    "\n",
    "    # Normalize the intensities such that the maximum (for each set of data run through this routine) is 100.\n",
    "    max_intensity = np.max(intensities)\n",
    "    intensities = (intensities / max_intensity) * 100\n",
    "\n",
    "    # Normalize integrated intensities\n",
    "    normalized_intensities = np.array([\n",
    "        trace / np.max(trace) if np.max(trace) > 0 else trace / np.min(trace)\n",
    "        for trace in intensities\n",
    "    ])\n",
    "\n",
    "    return intensities, normalized_intensities\n"
   ]
  },
  {
   "cell_type": "code",
   "execution_count": 11,
   "metadata": {},
   "outputs": [
    {
     "name": "stdout",
     "output_type": "stream",
     "text": [
      "(16384, 1)\n"
     ]
    },
    {
     "name": "stderr",
     "output_type": "stream",
     "text": [
      "C:\\Users\\Alexa\\AppData\\Local\\Temp\\ipykernel_10088\\1615991715.py:19: ConvergenceWarning: Number of distinct clusters (1) found smaller than n_clusters (5). Possibly due to duplicate points in X.\n",
      "  kmeans_norm_intensities = KMeans(n_clusters=n_clusters, n_init=400, random_state=0).fit(norm_intensities)\n",
      "C:\\Users\\Alexa\\AppData\\Local\\Temp\\ipykernel_10088\\1615991715.py:25: ConvergenceWarning: Number of distinct clusters (1) found smaller than n_clusters (5). Possibly due to duplicate points in X.\n",
      "  kmeans_norm_intensitiesRec = KMeans(n_clusters=n_clusters, n_init=400, random_state=0).fit(norm_intensitiesRec)\n"
     ]
    }
   ],
   "source": [
    "\n",
    "n_clusters = 5\n",
    "xres = 2\n",
    "yres = 2\n",
    "\n",
    "\n",
    "\n",
    "\n",
    "\n",
    "\n",
    "results = {}  # This dictionary will store all results, keyed by the suffix ('20', '30', etc.)\n",
    "for nr, img in enumerate(test_imgs):\n",
    "    roi_k = (0, 256, xres)\n",
    "    roi_e = (0, 256, yres)\n",
    "\n",
    "    intensities, norm_intensities = process_dataset(np.array(img), roi_k, roi_e)\n",
    "    print(np.array(intensities).shape)\n",
    "    intensities = intensities.flatten().reshape(-1, 1)\n",
    "    kmeans_intensities = KMeans(n_clusters=n_clusters, n_init=400, random_state=0).fit(intensities)\n",
    "    kmeans_norm_intensities = KMeans(n_clusters=n_clusters, n_init=400, random_state=0).fit(norm_intensities)\n",
    "\n",
    "\n",
    "    rec = decoder(encoder(img.unsqueeze(0))).detach().squeeze().cpu().numpy()\n",
    "    intensitiesRec, norm_intensitiesRec = process_dataset(np.array(rec), roi_k, roi_e)\n",
    "    kmeans_intensitiesRec = KMeans(n_clusters=n_clusters, n_init=400, random_state=0).fit(intensitiesRec)\n",
    "    kmeans_norm_intensitiesRec = KMeans(n_clusters=n_clusters, n_init=400, random_state=0).fit(norm_intensitiesRec)\n",
    "\n",
    "    # Store the results for this label\n",
    "    results[f\"{nr}\"] = {\n",
    "        'intensities': intensities,\n",
    "        'normalized_intensities': norm_intensities,\n",
    "        'kmeans_all': kmeans_intensities,\n",
    "        'kmeans_norm': kmeans_norm_intensities,\n",
    "        'intensities_rec': intensitiesRec,\n",
    "        'normalized_intensities_rec': norm_intensitiesRec,\n",
    "        'kmeans_all_rec': kmeans_intensitiesRec,\n",
    "        'kmeans_norm_rec': kmeans_norm_intensitiesRec\n",
    "    }\n",
    "\n",
    "\n",
    "\n",
    "d27_E = np.linspace(0, 256, 257)\n",
    "d27_k = np.linspace(0, 256, 257)\n",
    "\n"
   ]
  },
  {
   "cell_type": "code",
   "execution_count": 7,
   "metadata": {},
   "outputs": [],
   "source": [
    "color_blind_friendly_colors = [\n",
    "    \"#E69F00\",  # orange\n",
    "    \"#B3DE69\",  # light olive green\n",
    "    \"#D55E00\",  # vermillion\n",
    "    \"#CC79A7\",  # reddish purple\n",
    "    \"#1f77b4\",  # teal\n",
    "    \"#8C564B\",  # maroon\n",
    "    \"#56B4E9\",  # sky blue\n",
    "    \"#009E73\",  # bluish green\n",
    "    \"#F0E442\",  # yellow\n",
    "    \"#FF00FF\",  # magenta\n",
    "    \"#999999\",  # grey\n",
    "]\n",
    "\n",
    "color_blind_friendly_colors.append(\"#FFFFFF\")  # White\n",
    "\n",
    "def create_custom_cmap(n_clusters, index_map, color_blind_friendly_colors):\n",
    "    reordered_colors = [color_blind_friendly_colors[index_map[i]] for i in range(n_clusters)]\n",
    "    return ListedColormap(reordered_colors)\n",
    "\n",
    "if(n_clusters == 5):\n",
    "    index_map = {0: 3, 1: 0, 2: 4, 3: 1, 4: 2}  # Define this based on your desired visual arrangement\n",
    "    custom_cmap = create_custom_cmap(n_clusters=5, index_map=index_map, color_blind_friendly_colors=color_blind_friendly_colors)\n",
    "elif(n_clusters == 10):\n",
    "    index_map = {0: 0, 1: 1, 2: 2, 3: 3, 4: 4, 5: 5, 6: 6, 7: 7, 8: 8, 9: 9}  # Define this based on your desired visual arrangement\n",
    "    custom_cmap = create_custom_cmap(n_clusters=10, index_map=index_map, color_blind_friendly_colors=color_blind_friendly_colors)\n",
    "\n"
   ]
  },
  {
   "cell_type": "code",
   "execution_count": 8,
   "metadata": {},
   "outputs": [
    {
     "name": "stdout",
     "output_type": "stream",
     "text": [
      "Cluster 0: Average energy = 109.06, Std Dev = 72.63\n",
      "Cluster 1: Average energy = 127.48, Std Dev = 74.41\n",
      "Cluster 2: Average energy = 164.80, Std Dev = 51.70\n",
      "Cluster 3: Average energy = 131.93, Std Dev = 77.31\n",
      "Cluster 4: Average energy = 142.02, Std Dev = 67.04\n"
     ]
    },
    {
     "data": {
      "image/png": "[encoded data removed]",
      "text/plain": [
       "<Figure size 864x432 with 2 Axes>"
      ]
     },
     "metadata": {
      "needs_background": "light"
     },
     "output_type": "display_data"
    }
   ],
   "source": [
    "grid = [\n",
    "    [f\"original_{i}\" for i in range(n_imgs)],\n",
    "    [f\"rec_{i}\" for i in range(n_imgs)],\n",
    "]\n",
    "fig, axes = plt.subplot_mosaic(grid, figsize=(12, 6))\n",
    "fig.subplots_adjust(hspace=0.375)\n",
    "fig.suptitle(f\"{imgName}\", fontsize=16)\n",
    "\n",
    "\n",
    "\n",
    "num_rois_e = (roi_e[1] - roi_e[0]) // roi_e[2]\n",
    "num_rois_k = (roi_k[1] - roi_k[0]) // roi_k[2]\n",
    "for grafIndex in range(n_imgs):\n",
    "    specific_results = results[f\"{grafIndex}\"]\n",
    "\n",
    "    # Retrieve the KMeans models\n",
    "    kmeans_intensities_model = specific_results['kmeans_all']\n",
    "    cluster_labels_intensities = kmeans_intensities_model.labels_\n",
    "    # cluster_labels_intensities = specific_results['normalized_intensities']\n",
    "\n",
    "    cluster_image_all = np.zeros((num_rois_k, num_rois_e))\n",
    "    k = 0\n",
    "    roi_y_values = np.zeros_like(cluster_labels_intensities, dtype=float)\n",
    "\n",
    "    for roi_x in range(num_rois_k):\n",
    "        for roi_y in range(num_rois_e):\n",
    "            cluster_image_all[roi_x, roi_y] = np.sum(cluster_labels_intensities[k])\n",
    "            roi_y_values[k] = roi_y  # Store roi_y value corresponding to each label\n",
    "            k += 1\n",
    "\n",
    "\n",
    "    kmeans_intensities_model_rec = specific_results['kmeans_all_rec']\n",
    "    cluster_labels_intensities = kmeans_intensities_model_rec.labels_\n",
    "    # cluster_labels_intensities = specific_results['normalized_intensities']\n",
    "\n",
    "    cluster_image_all_rec = np.zeros((num_rois_k, num_rois_e))\n",
    "    k = 0\n",
    "    roi_y_values = np.zeros_like(cluster_labels_intensities, dtype=float)\n",
    "\n",
    "    for roi_x in range(num_rois_k):\n",
    "        for roi_y in range(num_rois_e):\n",
    "            cluster_image_all_rec[roi_x, roi_y] = np.sum(cluster_labels_intensities[k])\n",
    "            roi_y_values[k] = roi_y  # Store roi_y value corresponding to each label\n",
    "            k += 1\n",
    "\n",
    "    # Calculate average and standard deviation of roi_y for each cluster\n",
    "    average_roi_y = np.zeros(n_clusters)\n",
    "    std_dev_roi_y = np.zeros(n_clusters)\n",
    "    average_e = np.zeros(n_clusters)\n",
    "    std_dev_e = np.zeros(n_clusters)\n",
    "    for i in range(n_clusters):\n",
    "        indices = (cluster_labels_intensities == i)\n",
    "        average_roi_y[i] = np.mean(roi_y_values[indices])\n",
    "        average_e[i] = d27_E[roi_e[0]] + (d27_E[roi_e[1]] - d27_E[roi_e[0]]) * (0.5 + np.mean(roi_y_values[indices])) /num_rois_e\n",
    "        std_dev_roi_y[i] = np.std(roi_y_values[indices])\n",
    "        std_dev_e[i] = (d27_E[roi_e[1]] - d27_E[roi_e[0]]) * np.std(roi_y_values[indices]) / num_rois_e\n",
    "        #print(f\"Cluster {i}: Average roi_y = {average_roi_y[i]:.2f}, Std Dev = {std_dev_roi_y[i]:.2f}\")\n",
    "        print(f\"Cluster {i}: Average energy = {average_e[i]:.2f}, Std Dev = {std_dev_e[i]:.2f}\")\n",
    "\n",
    "    # Plotting \"All Intensities\"\n",
    "    axes[f\"original_{grafIndex}\"].imshow(cluster_image_all, cmap=custom_cmap, extent=[d27_k[roi_k[0]], d27_k[roi_k[1]], d27_E[roi_e[1]], d27_E[roi_e[0]]])\n",
    "    axes[f\"rec_{grafIndex}\"].imshow(cluster_image_all_rec, cmap=custom_cmap, extent=[d27_k[roi_k[0]], d27_k[roi_k[1]], d27_E[roi_e[1]], d27_E[roi_e[0]]])\n",
    "\n",
    "\n",
    "    # im_all = ax.imshow(cluster_image_all.T, cmap=custom_cmap, extent=[d27_k[roi_k[0]], d27_k[roi_k[1]], d27_E[roi_e[1]], d27_E[roi_e[0]]])\n",
    "    # plt.colorbar(im_all, ax=ax, fraction=0.046, pad=0.04)\n",
    "    # ax.invert_yaxis()\n",
    "    # ax.set_xlabel(r\"$\\mathit{k}(\\AA^{-1})$\")\n",
    "    # ax.set_ylabel(r\"$E-E_{\\mathrm{F}}(\\mathrm{eV)}$\")\n",
    "    # # plt.savefig('clusters_raw.svg', format='svg')\n",
    "    # # plt.savefig('clusters_raw.pdf', format='pdf')\n",
    "    # fig.tight_layout()\n",
    "    axes[f\"original_{grafIndex}\"].invert_yaxis()\n",
    "    axes[f\"rec_{grafIndex}\"].invert_yaxis()\n",
    "\n",
    "\n",
    "plt.show()"
   ]
  },
  {
   "cell_type": "code",
   "execution_count": null,
   "metadata": {},
   "outputs": [],
   "source": []
  }
 ],
 "metadata": {
  "kernelspec": {
   "display_name": "base",
   "language": "python",
   "name": "python3"
  },
  "language_info": {
   "codemirror_mode": {
    "name": "ipython",
    "version": 3
   },
   "file_extension": ".py",
   "mimetype": "text/x-python",
   "name": "python",
   "nbconvert_exporter": "python",
   "pygments_lexer": "ipython3",
   "version": "3.9.12"
  }
 },
 "nbformat": 4,
 "nbformat_minor": 2
}
