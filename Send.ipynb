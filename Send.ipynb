{
 "cells": [
  {
   "cell_type": "code",
   "execution_count": null,
   "metadata": {},
   "outputs": [],
   "source": [
    "import scipy.signal as sps\n",
    "import numpy as np\n",
    "\n",
    "def entropy(img):\n",
    "    n_clusters = np.max(img)+1\n",
    "    t = dict([]*(n_clusters))\n",
    "    bigSum = 0\n",
    "    for clus in range(n_clusters):\n",
    "        mask = np.where(img == clus, 1, 0)\n",
    "        conv = sps.convolve(mask, np.ones((3,3)))\n",
    "        s = np.sum(np.where(mask == 0, conv[1:-1, 1:-1], 0))\n",
    "\n",
    "        try:\n",
    "            cluster_size = (img.size - np.sum(mask))\n",
    "            s = s / cluster_size**(1/2)\n",
    "        except: \n",
    "            s = 0\n",
    "\n",
    "        t[f\"{clus}\"] = s\n",
    "        bigSum += s\n",
    "\n",
    "    return bigSum, t"
   ]
  },
  {
   "cell_type": "markdown",
   "metadata": {},
   "source": [
    "# Giver to billeder de samme farver så godt som muligt"
   ]
  },
  {
   "cell_type": "code",
   "execution_count": null,
   "metadata": {},
   "outputs": [],
   "source": [
    "\n",
    "#img1 og img2 skal begge være 2D np-arrays\n",
    "#Så du skal bare ændre de to linjer her\n",
    "\n",
    "def sammeFarve(img1, img2):\n",
    "    n_clusters = np.max(img1)+1\n",
    "\n",
    "    #Finder sammenhængen imellem de to billeders clusters\n",
    "    mat = np.zeros((n_clusters, n_clusters))\n",
    "    for i in range(img1.shape[0]):\n",
    "        for j in range(img1.shape[1]):\n",
    "            mat[img1[i,j], img2[i,j]] += 1\n",
    "\n",
    "    mapper = list(range(n_clusters))\n",
    "    mat = (mat/np.abs(np.reshape(np.sum(mat, axis=1), (-1, 1)))*mat)\n",
    "\n",
    "    conList = list(np.argmax(mat, axis=1))\n",
    "    conSet = set(conList)\n",
    "    while(len(conSet) != len(conList)):   #Hvis alle farverne ikke har et match\n",
    "        #Finder indexet for rækken med to referencer\n",
    "        badVal = sorted(list(conSet))\n",
    "        for nr, i in enumerate(badVal):\n",
    "            if(nr != i):  #finder fejlen\n",
    "                badVal = nr\n",
    "                break\n",
    "            badVal = nr+1\n",
    "        badVal = conList[badVal] \n",
    "\n",
    "        mat[np.argmax(mat[:, badVal]), badVal] = 0 #Sørger for at det er den næststørste værdi der ændre sig\n",
    "\n",
    "        conList[np.argmax(mat[:, badVal])] = list(set(range(n_clusters)).difference(conSet))[0] #Giver tilfældigt en af de tilbageværende værdier\n",
    "        conSet = set(conList)\n",
    "\n",
    "\n",
    "    #Farvelægger img2 med de tilsvarende farver fra img1\n",
    "    # print(conList)\n",
    "    sameColour = False\n",
    "    if(len(set(conList)) == len(conList)):  #Hvis alle farverne har et match\n",
    "        sameColour = True\n",
    "        for i in range(img1.shape[0]):\n",
    "            for j in range(img1.shape[1]):\n",
    "                img2[i, j] = conList.index(img2[i,j])\n",
    "    print(f\"Samme farver: {sameColour}\")\n",
    "\n",
    "\n",
    "\n",
    "\n"
   ]
  }
 ],
 "metadata": {
  "kernelspec": {
   "display_name": "base",
   "language": "python",
   "name": "python3"
  },
  "language_info": {
   "name": "python",
   "version": "3.9.12"
  }
 },
 "nbformat": 4,
 "nbformat_minor": 2
}
